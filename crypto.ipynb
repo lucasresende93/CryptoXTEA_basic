{
 "cells": [
  {
   "cell_type": "code",
   "execution_count": 79,
   "metadata": {},
   "outputs": [],
   "source": [
    "delta = 0x9E3779B9\n",
    "\n",
    "\n",
    "key = [0x01234567, 0x89abcdef, 0xfedcba98, 0x76543210]\n",
    "\n",
    "dataToEncrypt = (305419896, 2596069104) # 32 bits\n",
    "round = 32\n",
    "\n",
    "def xtea_encrypt(block, key):\n",
    "    sum = 0\n",
    "    v0, v1 = block\n",
    "    v0 &= 0xFFFFFFFF  # fixar 32-bit\n",
    "    v1 &= 0xFFFFFFFF  # fixar 32-bit\n",
    "\n",
    "    for _ in range(round):\n",
    "            v0 += (((v1 << 4) ^ (v1 >> 5)) + v1) ^ (sum + key[sum & 3])\n",
    "            v0 &= 0xFFFFFFFF  \n",
    "            sum += delta\n",
    "            sum &= 0xFFFFFFFF  \n",
    "            v1 += (((v0 << 4) ^ (v0 >> 5)) + v0) ^ (sum + key[(sum>>11) & 3])\n",
    "            v1 &= 0xFFFFFFFF  \n",
    "\n",
    "    return v0, v1"
   ]
  },
  {
   "cell_type": "code",
   "execution_count": 80,
   "metadata": {},
   "outputs": [
    {
     "name": "stdout",
     "output_type": "stream",
     "text": [
      "Dados criptografados:  (849456505, 134128077)\n"
     ]
    }
   ],
   "source": [
    "print(\"Dados criptografados: \", xtea_encrypt(dataToEncrypt, key))"
   ]
  },
  {
   "cell_type": "code",
   "execution_count": 81,
   "metadata": {},
   "outputs": [],
   "source": [
    "def xtea_decrypt(blockDecrypt, key):\n",
    "    v0, v1 = blockDecrypt\n",
    "    sum = delta * round\n",
    "    v0 &= 0xFFFFFFFF  \n",
    "    v1 &= 0xFFFFFFFF \n",
    "\n",
    "    for _ in range(round):\n",
    "        v1 -= (((v0 << 4) ^ (v0 >> 5)) + v0) ^ (sum + key[(sum>>11) & 3])\n",
    "        v1 &= 0xFFFFFFFF  \n",
    "        sum -= delta\n",
    "        sum &= 0xFFFFFFFF  # ensure 32-bit\n",
    "        v0 -= (((v1 << 4) ^ (v1 >> 5)) + v1) ^ (sum + key[sum & 3])\n",
    "        v0 &= 0xFFFFFFFF  \n",
    "        \n",
    "    return v0, v1"
   ]
  },
  {
   "cell_type": "code",
   "execution_count": 82,
   "metadata": {},
   "outputs": [
    {
     "name": "stdout",
     "output_type": "stream",
     "text": [
      "Dados decriptografados:  (305419896, 2596069104)\n"
     ]
    }
   ],
   "source": [
    "dataToEncrypt = (849456505, 134128077) \n",
    "print(\"Dados decriptografados: \", xtea_decrypt(dataToEncrypt, key))"
   ]
  }
 ],
 "metadata": {
  "kernelspec": {
   "display_name": "Python 3",
   "language": "python",
   "name": "python3"
  },
  "language_info": {
   "codemirror_mode": {
    "name": "ipython",
    "version": 3
   },
   "file_extension": ".py",
   "mimetype": "text/x-python",
   "name": "python",
   "nbconvert_exporter": "python",
   "pygments_lexer": "ipython3",
   "version": "3.12.3"
  }
 },
 "nbformat": 4,
 "nbformat_minor": 2
}
